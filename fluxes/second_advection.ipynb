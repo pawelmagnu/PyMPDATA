{
 "cells": [
  {
   "cell_type": "code",
   "id": "initial_id",
   "metadata": {
    "collapsed": true,
    "ExecuteTime": {
     "end_time": "2025-05-24T19:40:34.034759Z",
     "start_time": "2025-05-24T19:40:28.879430Z"
    }
   },
   "source": [
    "import os\n",
    "os.environ[\"NUMBA_DISABLE_JIT\"] = \"1\"\n",
    "import numpy as np\n",
    "import sympy as sp\n",
    "from IPython.display import HTML, display\n",
    "import matplotlib.pyplot as plt\n",
    "from matplotlib.animation import FuncAnimation\n",
    "from open_atmos_jupyter_utils import show_plot\n",
    "from PyMPDATA import Solver, ScalarField, VectorField, Stepper, Options\n",
    "from PyMPDATA.boundary_conditions import Periodic\n"
   ],
   "outputs": [],
   "execution_count": 1
  },
  {
   "metadata": {
    "ExecuteTime": {
     "end_time": "2025-05-24T19:40:34.050367Z",
     "start_time": "2025-05-24T19:40:34.034759Z"
    }
   },
   "cell_type": "code",
   "source": [
    "mu = 0.001 # diffusion coefficient\n",
    "dt = 0.0005\n",
    "tmax = 5.0\n",
    "nt = int(tmax / dt)\n",
    "\n",
    "nx = 100\n",
    "ux  = 0.25\n",
    "\n",
    "omega = np.pi\n",
    "\n",
    "min_x, max_x = -1, 1\n",
    "dx = (max_x - min_x) / nx\n",
    "Cx = ux * dt / dx"
   ],
   "id": "572c00f5a43a109a",
   "outputs": [],
   "execution_count": 2
  },
  {
   "metadata": {
    "ExecuteTime": {
     "end_time": "2025-05-24T20:21:45.087006Z",
     "start_time": "2025-05-24T20:21:45.055979Z"
    }
   },
   "cell_type": "code",
   "source": [
    "# def analytic_solution(x, t):\n",
    "#     return np.exp(-((x+0.5)/0.1)**2) - np.exp(-((x-0.5)/0.1)**2) + 1.5\n",
    "\n",
    "def analytic_solution(x):\n",
    "    # 2 between -0.6 and -0.3, 0 between 0.3 and 0.6, 1 elsewhere\n",
    "    return np.where(\n",
    "        (x >= -0.6) & (x <= -0.3), 2,\n",
    "        np.where((x > 0.3) & (x < 0.6), 0, 1)\n",
    "    )\n",
    "\n",
    "def z(t):\n",
    "    return np.array(\n",
    "    [\n",
    "        analytic_solution(x) for x in np.linspace(min_x, max_x, nx)\n",
    "    ],\n",
    "    dtype=float\n",
    ")"
   ],
   "id": "2ba1854b7558b7ec",
   "outputs": [],
   "execution_count": 11
  },
  {
   "metadata": {
    "ExecuteTime": {
     "end_time": "2025-05-24T20:21:45.573278Z",
     "start_time": "2025-05-24T20:21:45.555860Z"
    }
   },
   "cell_type": "code",
   "source": "u0 = z(t=0)",
   "id": "d3d45c8dd9c846d3",
   "outputs": [],
   "execution_count": 12
  },
  {
   "metadata": {
    "ExecuteTime": {
     "end_time": "2025-05-24T20:21:47.256352Z",
     "start_time": "2025-05-24T20:21:46.880555Z"
    }
   },
   "cell_type": "code",
   "source": [
    "plt.figure(figsize=(6, 6))\n",
    "plt.plot(np.linspace(min_x, max_x, nx), u0, label='Initial condition')\n",
    "plt.title('Initial condition')\n",
    "plt.xlabel('x')\n",
    "plt.ylabel('advectee')"
   ],
   "id": "6227f00ec67f53da",
   "outputs": [
    {
     "data": {
      "text/plain": [
       "Text(0, 0.5, 'advectee')"
      ]
     },
     "execution_count": 13,
     "metadata": {},
     "output_type": "execute_result"
    },
    {
     "data": {
      "text/plain": [
       "<Figure size 600x600 with 1 Axes>"
      ],
      "image/png": "[encoded data removed]"
     },
     "metadata": {},
     "output_type": "display_data"
    }
   ],
   "execution_count": 13
  },
  {
   "metadata": {
    "ExecuteTime": {
     "end_time": "2025-05-24T20:21:55.918974Z",
     "start_time": "2025-05-24T20:21:55.903748Z"
    }
   },
   "cell_type": "code",
   "source": [
    "opts = Options(n_iters=3, non_zero_mu_coeff=True, infinite_gauge=True, nonoscillatory=True)\n",
    "\n",
    "boundary_conditions = (Periodic(),)\n",
    "stepper = Stepper(options=opts, n_dims=len(u0.shape), non_unit_g_factor=False)\n",
    "solver = Solver(stepper=stepper,\n",
    "                advectee=ScalarField(u0.astype(dtype=opts.dtype), halo=opts.n_halo,\n",
    "                                         boundary_conditions=boundary_conditions),\n",
    "                advector=VectorField((np.full(u0.shape[0] + 1, 0, dtype=opts.dtype),), halo=opts.n_halo,\n",
    "                                         boundary_conditions=boundary_conditions)\n",
    "                )"
   ],
   "id": "1a0b2da5a20fe651",
   "outputs": [],
   "execution_count": 14
  },
  {
   "metadata": {
    "ExecuteTime": {
     "end_time": "2025-05-24T20:21:56.247439Z",
     "start_time": "2025-05-24T20:21:56.216202Z"
    }
   },
   "cell_type": "code",
   "source": [
    "print(\"CFL number: \", Cx)\n",
    "print(\"Diffusion number: \", mu)\n",
    "print(\"nt: \", nt)"
   ],
   "id": "3e2641983c36657c",
   "outputs": [
    {
     "name": "stdout",
     "output_type": "stream",
     "text": [
      "CFL number:  0.00625\n",
      "Diffusion number:  0.001\n",
      "nt:  10000\n"
     ]
    }
   ],
   "execution_count": 15
  },
  {
   "metadata": {
    "ExecuteTime": {
     "end_time": "2025-05-24T20:23:15.578624Z",
     "start_time": "2025-05-24T20:21:56.948425Z"
    }
   },
   "cell_type": "code",
   "source": "solver.advance(nt, mu_coeff=(mu,))",
   "id": "10735eefb3ba4cab",
   "outputs": [
    {
     "data": {
      "text/plain": [
       "7861198.49"
      ]
     },
     "execution_count": 16,
     "metadata": {},
     "output_type": "execute_result"
    }
   ],
   "execution_count": 16
  },
  {
   "metadata": {},
   "cell_type": "code",
   "outputs": [],
   "execution_count": null,
   "source": "",
   "id": "5b942b55d0984e82"
  }
 ],
 "metadata": {
  "kernelspec": {
   "display_name": "Python 3",
   "language": "python",
   "name": "python3"
  },
  "language_info": {
   "codemirror_mode": {
    "name": "ipython",
    "version": 2
   },
   "file_extension": ".py",
   "mimetype": "text/x-python",
   "name": "python",
   "nbconvert_exporter": "python",
   "pygments_lexer": "ipython2",
   "version": "2.7.6"
  }
 },
 "nbformat": 4,
 "nbformat_minor": 5
}
